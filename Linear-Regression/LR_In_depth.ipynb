{
 "cells": [
  {
   "cell_type": "markdown",
   "metadata": {},
   "source": [
    "Linear Regression is a supervised regression method of machine learning. There are two types of Linear Regression (Simple, Multiple). Simple is built from two varibales, which one is dependent and second is independent, with two parameters slope and intercept. Multiple has more than one independent varible but still one dependent varible. \n",
    "Intercept is a point where the line crosses the y-axis usually it will be a starting line where x = 0\n",
    "Slope is the value that tells how much y-value changes up or down when x-value changes (left-right)"
   ]
  },
  {
   "cell_type": "markdown",
   "metadata": {},
   "source": [
    "<img src='./images/Slope and Intercept.png'> \n",
    "\n",
    "Source: https://www.allmath.com/slope-intercept-form.php"
   ]
  },
  {
   "cell_type": "code",
   "execution_count": null,
   "metadata": {},
   "outputs": [],
   "source": []
  }
 ],
 "metadata": {
  "language_info": {
   "name": "python"
  }
 },
 "nbformat": 4,
 "nbformat_minor": 2
}
