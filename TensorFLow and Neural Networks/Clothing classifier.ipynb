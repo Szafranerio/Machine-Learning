{
    "cells": [
        {
            "cell_type": "code",
            "execution_count": 1,
            "metadata": {},
            "outputs": [
                {
                    "name": "stderr",
                    "output_type": "stream",
                    "text": [
                        "2024-07-24 15:13:50.192779: I tensorflow/core/platform/cpu_feature_guard.cc:210] This TensorFlow binary is optimized to use available CPU instructions in performance-critical operations.\n",
                        "To enable the following instructions: AVX2 FMA, in other operations, rebuild TensorFlow with the appropriate compiler flags.\n"
                    ]
                }
            ],
            "source": [
                "import tensorflow as tf\n",
                "from tensorflow import keras\n",
                "import numpy as np\n",
                "import matplotlib.pyplot as plt"
            ]
        },
        {
            "cell_type": "code",
            "execution_count": 2,
            "metadata": {},
            "outputs": [
                {
                    "name": "stdout",
                    "output_type": "stream",
                    "text": [
                        "Downloading data from https://storage.googleapis.com/tensorflow/tf-keras-datasets/train-labels-idx1-ubyte.gz\n",
                        "\u001b[1m29515/29515\u001b[0m \u001b[32m━━━━━━━━━━━━━━━━━━━━\u001b[0m\u001b[37m\u001b[0m \u001b[1m20s\u001b[0m 681us/step\n",
                        "Downloading data from https://storage.googleapis.com/tensorflow/tf-keras-datasets/train-images-idx3-ubyte.gz\n",
                        "\u001b[1m26421880/26421880\u001b[0m \u001b[32m━━━━━━━━━━━━━━━━━━━━\u001b[0m\u001b[37m\u001b[0m \u001b[1m29s\u001b[0m 1us/step\n",
                        "Downloading data from https://storage.googleapis.com/tensorflow/tf-keras-datasets/t10k-labels-idx1-ubyte.gz\n",
                        "\u001b[1m5148/5148\u001b[0m \u001b[32m━━━━━━━━━━━━━━━━━━━━\u001b[0m\u001b[37m\u001b[0m \u001b[1m0s\u001b[0m 1us/step\n",
                        "Downloading data from https://storage.googleapis.com/tensorflow/tf-keras-datasets/t10k-images-idx3-ubyte.gz\n",
                        "\u001b[1m4422102/4422102\u001b[0m \u001b[32m━━━━━━━━━━━━━━━━━━━━\u001b[0m\u001b[37m\u001b[0m \u001b[1m3s\u001b[0m 1us/step\n"
                    ]
                }
            ],
            "source": [
                "fashion_mnist = keras.datasets.fashion_mnist\n",
                "\n",
                "(train_images, train_labels), (test_images, test_labels) = fashion_mnist.load_data()"
            ]
        },
        {
            "cell_type": "code",
            "execution_count": 3,
            "metadata": {},
            "outputs": [
                {
                    "data": {
                        "text/plain": [
                            "array([[[  0,   0,   0, ...,   0,   0,   0],\n",
                            "        [  0,   0,   0, ...,   0,   0,   0],\n",
                            "        [  0,   0,   0, ...,   0,   0,   0],\n",
                            "        ...,\n",
                            "        [  0,   0,   0, ...,   0,   0,   0],\n",
                            "        [  0,   0,   0, ...,   0,   0,   0],\n",
                            "        [  0,   0,   0, ...,   0,   0,   0]],\n",
                            "\n",
                            "       [[  0,   0,   0, ...,   0,   0,   0],\n",
                            "        [  0,   0,   0, ...,   0,   0,   0],\n",
                            "        [  0,   0,   0, ...,   0,   0,   0],\n",
                            "        ...,\n",
                            "        [  0,   0,   0, ...,   0,   0,   0],\n",
                            "        [  0,   0,   0, ...,   0,   0,   0],\n",
                            "        [  0,   0,   0, ...,   0,   0,   0]],\n",
                            "\n",
                            "       [[  0,   0,   0, ...,   0,   0,   0],\n",
                            "        [  0,   0,   0, ...,   0,   0,   0],\n",
                            "        [  0,   0,   0, ...,   0,   0,   0],\n",
                            "        ...,\n",
                            "        [  0,   0,   0, ...,   0,   0,   0],\n",
                            "        [  0,   0,   0, ...,   0,   0,   0],\n",
                            "        [  0,   0,   0, ...,   0,   0,   0]],\n",
                            "\n",
                            "       ...,\n",
                            "\n",
                            "       [[  0,   0,   0, ...,   0,   0,   0],\n",
                            "        [  0,   0,   0, ...,   0,   0,   0],\n",
                            "        [  0,   0,   0, ...,   0,   0,   0],\n",
                            "        ...,\n",
                            "        [  0,   0,   0, ..., 180,   0,   0],\n",
                            "        [  0,   0,   0, ...,  72,   0,   0],\n",
                            "        [  0,   0,   0, ...,  70,   0,   0]],\n",
                            "\n",
                            "       [[  0,   0,   0, ...,   0,   0,   0],\n",
                            "        [  0,   0,   0, ...,   0,   0,   0],\n",
                            "        [  0,   0,   0, ...,  39,   1,   0],\n",
                            "        ...,\n",
                            "        [  0,   0,   0, ..., 238,   0,   0],\n",
                            "        [  0,   0,   0, ..., 131,   0,   0],\n",
                            "        [  0,   0,   0, ...,   0,   0,   0]],\n",
                            "\n",
                            "       [[  0,   0,   0, ...,   0,   0,   0],\n",
                            "        [  0,   0,   0, ...,   0,   0,   0],\n",
                            "        [  0,   0,   0, ...,   7,   0,   0],\n",
                            "        ...,\n",
                            "        [  0,   0,   0, ...,   0,   9,   0],\n",
                            "        [  0,   0,   0, ...,   0,   3,   0],\n",
                            "        [  0,   0,   0, ...,   0,   0,   0]]], dtype=uint8)"
                        ]
                    },
                    "execution_count": 3,
                    "metadata": {},
                    "output_type": "execute_result"
                }
            ],
            "source": [
                "train_images[:10]"
            ]
        },
        {
            "cell_type": "code",
            "execution_count": 10,
            "metadata": {},
            "outputs": [
                {
                    "data": {
                        "text/plain": [
                            "array([9, 0, 0, ..., 3, 0, 5], dtype=uint8)"
                        ]
                    },
                    "execution_count": 10,
                    "metadata": {},
                    "output_type": "execute_result"
                }
            ],
            "source": [
                "train_labels"
            ]
        },
        {
            "cell_type": "code",
            "execution_count": 11,
            "metadata": {},
            "outputs": [],
            "source": [
                "class_names = ['T-shirt/top', 'Trouser', 'Pullover', 'Dress', 'Coat',\n",
                "               'Sandal', 'Shirt', 'Sneaker', 'Bag', 'Ankle boot']"
            ]
        },
        {
            "cell_type": "code",
            "execution_count": 9,
            "metadata": {},
            "outputs": [
                {
                    "data": {
                        "image/png": "[encoded data removed]",
                        "text/plain": [
                            "<Figure size 640x480 with 2 Axes>"
                        ]
                    },
                    "metadata": {},
                    "output_type": "display_data"
                }
            ],
            "source": [
                "plt.figure()\n",
                "plt.imshow(train_images[1])\n",
                "plt.colorbar()\n",
                "plt.show()"
            ]
        },
        {
            "cell_type": "code",
            "execution_count": 12,
            "metadata": {},
            "outputs": [
                {
                    "data": {
                        "text/plain": [
                            "array([[[0., 0., 0., ..., 0., 0., 0.],\n",
                            "        [0., 0., 0., ..., 0., 0., 0.],\n",
                            "        [0., 0., 0., ..., 0., 0., 0.],\n",
                            "        ...,\n",
                            "        [0., 0., 0., ..., 0., 0., 0.],\n",
                            "        [0., 0., 0., ..., 0., 0., 0.],\n",
                            "        [0., 0., 0., ..., 0., 0., 0.]],\n",
                            "\n",
                            "       [[0., 0., 0., ..., 0., 0., 0.],\n",
                            "        [0., 0., 0., ..., 0., 0., 0.],\n",
                            "        [0., 0., 0., ..., 0., 0., 0.],\n",
                            "        ...,\n",
                            "        [0., 0., 0., ..., 0., 0., 0.],\n",
                            "        [0., 0., 0., ..., 0., 0., 0.],\n",
                            "        [0., 0., 0., ..., 0., 0., 0.]],\n",
                            "\n",
                            "       [[0., 0., 0., ..., 0., 0., 0.],\n",
                            "        [0., 0., 0., ..., 0., 0., 0.],\n",
                            "        [0., 0., 0., ..., 0., 0., 0.],\n",
                            "        ...,\n",
                            "        [0., 0., 0., ..., 0., 0., 0.],\n",
                            "        [0., 0., 0., ..., 0., 0., 0.],\n",
                            "        [0., 0., 0., ..., 0., 0., 0.]],\n",
                            "\n",
                            "       ...,\n",
                            "\n",
                            "       [[0., 0., 0., ..., 0., 0., 0.],\n",
                            "        [0., 0., 0., ..., 0., 0., 0.],\n",
                            "        [0., 0., 0., ..., 0., 0., 0.],\n",
                            "        ...,\n",
                            "        [0., 0., 0., ..., 0., 0., 0.],\n",
                            "        [0., 0., 0., ..., 0., 0., 0.],\n",
                            "        [0., 0., 0., ..., 0., 0., 0.]],\n",
                            "\n",
                            "       [[0., 0., 0., ..., 0., 0., 0.],\n",
                            "        [0., 0., 0., ..., 0., 0., 0.],\n",
                            "        [0., 0., 0., ..., 0., 0., 0.],\n",
                            "        ...,\n",
                            "        [0., 0., 0., ..., 0., 0., 0.],\n",
                            "        [0., 0., 0., ..., 0., 0., 0.],\n",
                            "        [0., 0., 0., ..., 0., 0., 0.]],\n",
                            "\n",
                            "       [[0., 0., 0., ..., 0., 0., 0.],\n",
                            "        [0., 0., 0., ..., 0., 0., 0.],\n",
                            "        [0., 0., 0., ..., 0., 0., 0.],\n",
                            "        ...,\n",
                            "        [0., 0., 0., ..., 0., 0., 0.],\n",
                            "        [0., 0., 0., ..., 0., 0., 0.],\n",
                            "        [0., 0., 0., ..., 0., 0., 0.]]])"
                        ]
                    },
                    "execution_count": 12,
                    "metadata": {},
                    "output_type": "execute_result"
                }
            ],
            "source": [
                "#Data Preprocessing\n",
                "\n",
                "train_images = train_images /255.0\n",
                "test_images,test_images /255.0"
            ]
        },
        {
            "cell_type": "code",
            "execution_count": 14,
            "metadata": {},
            "outputs": [
                {
                    "name": "stderr",
                    "output_type": "stream",
                    "text": [
                        "/opt/anaconda3/envs/DataScience/lib/python3.11/site-packages/keras/src/layers/reshaping/flatten.py:37: UserWarning: Do not pass an `input_shape`/`input_dim` argument to a layer. When using Sequential models, prefer using an `Input(shape)` object as the first layer in the model instead.\n",
                        "  super().__init__(**kwargs)\n"
                    ]
                },
                {
                    "name": "stdout",
                    "output_type": "stream",
                    "text": [
                        "Epoch 1/10\n",
                        "\u001b[1m1875/1875\u001b[0m \u001b[32m━━━━━━━━━━━━━━━━━━━━\u001b[0m\u001b[37m\u001b[0m \u001b[1m3s\u001b[0m 1ms/step,accuracy: 0.7838,loss: 0.6318\n",
                        "Epoch 2/10\n",
                        "\u001b[1m1875/1875\u001b[0m \u001b[32m━━━━━━━━━━━━━━━━━━━━\u001b[0m\u001b[37m\u001b[0m \u001b[1m3s\u001b[0m 1ms/step,accuracy: 0.8638,loss: 0.3785\n",
                        "Epoch 3/10\n",
                        "\u001b[1m1875/1875\u001b[0m \u001b[32m━━━━━━━━━━━━━━━━━━━━\u001b[0m\u001b[37m\u001b[0m \u001b[1m3s\u001b[0m 2ms/step,accuracy: 0.8797,loss: 0.3323\n",
                        "Epoch 4/10\n",
                        "\u001b[1m1875/1875\u001b[0m \u001b[32m━━━━━━━━━━━━━━━━━━━━\u001b[0m\u001b[37m\u001b[0m \u001b[1m3s\u001b[0m 1ms/step,accuracy: 0.8867,loss: 0.3085\n",
                        "Epoch 5/10\n",
                        "\u001b[1m1875/1875\u001b[0m \u001b[32m━━━━━━━━━━━━━━━━━━━━\u001b[0m\u001b[37m\u001b[0m \u001b[1m2s\u001b[0m 1ms/step,accuracy: 0.8941,loss: 0.2915\n",
                        "Epoch 6/10\n",
                        "\u001b[1m1875/1875\u001b[0m \u001b[32m━━━━━━━━━━━━━━━━━━━━\u001b[0m\u001b[37m\u001b[0m \u001b[1m3s\u001b[0m 2ms/step,accuracy: 0.8971,loss: 0.2784\n",
                        "Epoch 7/10\n",
                        "\u001b[1m1875/1875\u001b[0m \u001b[32m━━━━━━━━━━━━━━━━━━━━\u001b[0m\u001b[37m\u001b[0m \u001b[1m3s\u001b[0m 1ms/step,accuracy: 0.9001,loss: 0.2651\n",
                        "Epoch 8/10\n",
                        "\u001b[1m1875/1875\u001b[0m \u001b[32m━━━━━━━━━━━━━━━━━━━━\u001b[0m\u001b[37m\u001b[0m \u001b[1m5s\u001b[0m 1ms/step,accuracy: 0.9049,loss: 0.2552\n",
                        "Epoch 9/10\n",
                        "\u001b[1m1875/1875\u001b[0m \u001b[32m━━━━━━━━━━━━━━━━━━━━\u001b[0m\u001b[37m\u001b[0m \u001b[1m3s\u001b[0m 1ms/step,accuracy: 0.9101,loss: 0.2462\n",
                        "Epoch 10/10\n",
                        "\u001b[1m1875/1875\u001b[0m \u001b[32m━━━━━━━━━━━━━━━━━━━━\u001b[0m\u001b[37m\u001b[0m \u001b[1m3s\u001b[0m 2ms/step,accuracy: 0.9136,loss: 0.2337\n"
                    ]
                },
                {
                    "data": {
                        "text/plain": [
                            "<keras.src.callbacks.history.History at 0x13d865390>"
                        ]
                    },
                    "execution_count": 14,
                    "metadata": {},
                    "output_type": "execute_result"
                }
            ],
            "source": [
                "model = keras.Sequential([\n",
                "    keras.layers.Flatten(input_shape=(28, 28)),\n",
                "    keras.layers.Dense(128, activation='relu'),\n",
                "    keras.layers.Dense(10, activation='softmax')\n",
                "])\n",
                "model.compile(optimizer='adam', loss='sparse_categorical_crossentropy', metrics=['accuracy'])\n",
                "model.fit(train_images, train_labels, epochs=10)"
            ]
        },
        {
            "cell_type": "code",
            "execution_count": 15,
            "metadata": {},
            "outputs": [
                {
                    "name": "stdout",
                    "output_type": "stream",
                    "text": [
                        "\u001b[1m313/313\u001b[0m \u001b[32m━━━━━━━━━━━━━━━━━━━━\u001b[0m\u001b[37m\u001b[0m \u001b[1m0s\u001b[0m 841us/step,accuracy: 0.8566,loss: 61.0405\n",
                        "Test Accuracy: 0.8557999730110168\n"
                    ]
                }
            ],
            "source": [
                "test_loss, test_acc = model.evaluate(test_images, test_labels, verbose=1)\n",
                "print('Test Accuracy:', test_acc)"
            ]
        },
        {
            "cell_type": "code",
            "execution_count": 21,
            "metadata": {},
            "outputs": [
                {
                    "name": "stdout",
                    "output_type": "stream",
                    "text": [
                        "\u001b[1m313/313\u001b[0m \u001b[32m━━━━━━━━━━━━━━━━━━━━\u001b[0m\u001b[37m\u001b[0m \u001b[1m0s\u001b[0m 846us/step\n",
                        "Trouser\n"
                    ]
                },
                {
                    "data": {
                        "image/png": "[encoded data removed]",
                        "text/plain": [
                            "<Figure size 640x480 with 2 Axes>"
                        ]
                    },
                    "metadata": {},
                    "output_type": "display_data"
                }
            ],
            "source": [
                "predictions = model.predict(test_images)\n",
                "print(class_names[np.argmax(predictions[3])])\n",
                "plt.figure()\n",
                "plt.imshow(test_images[3])\n",
                "plt.colorbar()\n",
                "plt.show()"
            ]
        },
        {
            "cell_type": "code",
            "execution_count": 23,
            "metadata": {},
            "outputs": [
                {
                    "name": "stdout",
                    "output_type": "stream",
                    "text": [
                        "\u001b[1m1/1\u001b[0m \u001b[32m━━━━━━━━━━━━━━━━━━━━\u001b[0m\u001b[37m\u001b[0m \u001b[1m0s\u001b[0m 22ms/step\n"
                    ]
                },
                {
                    "data": {
                        "image/png": "[encoded data removed]",
                        "text/plain": [
                            "<Figure size 640x480 with 2 Axes>"
                        ]
                    },
                    "metadata": {},
                    "output_type": "display_data"
                }
            ],
            "source": [
                "COLOR = 'white'\n",
                "plt.rcParams['text.color'] = COLOR\n",
                "plt.rcParams['axes.labelcolor'] = COLOR\n",
                "\n",
                "def predict(model, image, correct_label):\n",
                "  class_names = ['T-shirt/top', 'Trouser', 'Pullover', 'Dress', 'Coat',\n",
                "               'Sandal', 'Shirt', 'Sneaker', 'Bag', 'Ankle boot']\n",
                "  prediction = model.predict(np.array([image]))\n",
                "  predicted_class = class_names[np.argmax(prediction)]\n",
                "\n",
                "  show_image(image, class_names[correct_label], predicted_class)\n",
                "\n",
                "\n",
                "def show_image(img, label, guess):\n",
                "  plt.figure()\n",
                "  plt.imshow(img, cmap=plt.cm.binary)\n",
                "  plt.title(\"Excpected: \" + label)\n",
                "  plt.xlabel(\"Guess: \" + guess)\n",
                "  plt.colorbar()\n",
                "  plt.grid(False)\n",
                "  plt.show()\n",
                "\n",
                "\n",
                "def get_number():\n",
                "  while True:\n",
                "    num = input(\"Pick a number: \")\n",
                "    if num.isdigit():\n",
                "      num = int(num)\n",
                "      if 0 <= num <= 1000:\n",
                "        return int(num)\n",
                "    else:\n",
                "      print(\"Try again...\")\n",
                "\n",
                "num = get_number()\n",
                "image = test_images[num]\n",
                "label = test_labels[num]\n",
                "predict(model, image, label)"
            ]
        },
        {
            "cell_type": "code",
            "execution_count": null,
            "metadata": {},
            "outputs": [],
            "source": []
        }
    ],
    "metadata": {
        "kernelspec": {
            "display_name": "DataScience",
            "language": "python",
            "name": "python3"
        },
        "language_info": {
            "codemirror_mode": {
                "name": "ipython",
                "version": 3
            },
            "file_extension": ".py",
            "mimetype": "text/x-python",
            "name": "python",
            "nbconvert_exporter": "python",
            "pygments_lexer": "ipython3",
            "version": "3.11.9"
        }
    },
    "nbformat": 4,
    "nbformat_minor": 2
}